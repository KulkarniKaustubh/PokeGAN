{
 "cells": [
  {
   "cell_type": "code",
   "execution_count": 177,
   "metadata": {},
   "outputs": [],
   "source": [
    "import numpy as np\n",
    "import os\n",
    "import cv2\n",
    "import tensorflow as tf\n",
    "import tensorflow.keras as K\n",
    "import tensorflow.keras.layers as layers\n",
    "import matplotlib.pyplot as plt\n",
    "\n",
    "%matplotlib inline"
   ]
  },
  {
   "cell_type": "code",
   "execution_count": 178,
   "metadata": {},
   "outputs": [],
   "source": [
    "DATA_PATH = 'pokemon'\n",
    "imageSize = 28\n",
    "\n",
    "# getting training data\n",
    "X_train = []\n",
    "\n",
    "numImages = 0\n",
    "for image in os.listdir(DATA_PATH):\n",
    "    numImages += 1\n",
    "    readImage = cv2.imread(os.path.join(DATA_PATH, image))\n",
    "    readImage = cv2.resize(readImage, (imageSize, imageSize))\n",
    "    X_train.append(readImage)\n",
    "\n",
    "X_train = np.array(X_train).astype('float32')"
   ]
  },
  {
   "cell_type": "code",
   "execution_count": 179,
   "metadata": {},
   "outputs": [
    {
     "name": "stdout",
     "output_type": "stream",
     "text": [
      "(819, 28, 28, 3)\n",
      "7\n",
      "128\n",
      "51\n",
      "28\n",
      "28\n",
      "3\n"
     ]
    }
   ],
   "source": [
    "# 819 images of size (200, 200) with 3 channels\n",
    "print(X_train.shape)\n",
    "\n",
    "BUFFER = X_train.shape[0]\n",
    "BATCH_SIZE = 128\n",
    "\n",
    "trainingData = tf.data.Dataset.from_tensor_slices(X_train).shuffle(BUFFER).batch(BATCH_SIZE)\n",
    "\n",
    "# just to check dimension\n",
    "lst = list(trainingData.as_numpy_iterator())\n",
    "print(len(lst))\n",
    "print(len(lst[0]))\n",
    "print(len(lst[-1]))\n",
    "print(len(lst[0][0]))\n",
    "print(len(lst[0][0][0]))\n",
    "print(len(lst[0][0][0][0]))"
   ]
  },
  {
   "cell_type": "markdown",
   "metadata": {},
   "source": [
    "# Models\n",
    "\n",
    "- Discriminator model\n",
    "- Generator model"
   ]
  },
  {
   "cell_type": "code",
   "execution_count": 180,
   "metadata": {},
   "outputs": [],
   "source": [
    "K.backend.clear_session()\n",
    "\n",
    "def getDiscriminatorModel():\n",
    "    model = K.models.Sequential([\n",
    "        layers.Conv2D(32, (3, 3), padding = 'same', input_shape = (imageSize, imageSize, 3)),\n",
    "        layers.LeakyReLU(),\n",
    "        \n",
    "        layers.Conv2D(64, (3, 3), strides = (2, 2), padding = 'same'),\n",
    "        layers.LeakyReLU(),\n",
    "        \n",
    "        layers.Conv2D(128, (3, 3), strides = (2, 2), padding = 'same'),\n",
    "        layers.LeakyReLU(),\n",
    "        \n",
    "        layers.Flatten(),\n",
    "        layers.Dense(1),\n",
    "    ], name = \"discriminator sequential model\")\n",
    "    \n",
    "    return model"
   ]
  },
  {
   "cell_type": "code",
   "execution_count": 181,
   "metadata": {},
   "outputs": [],
   "source": [
    "discriminator = getDiscriminatorModel()"
   ]
  },
  {
   "cell_type": "code",
   "execution_count": 182,
   "metadata": {},
   "outputs": [
    {
     "name": "stdout",
     "output_type": "stream",
     "text": [
      "Model: \"discriminator sequential model\"\n",
      "_________________________________________________________________\n",
      "Layer (type)                 Output Shape              Param #   \n",
      "=================================================================\n",
      "conv2d (Conv2D)              (None, 28, 28, 32)        896       \n",
      "_________________________________________________________________\n",
      "leaky_re_lu (LeakyReLU)      (None, 28, 28, 32)        0         \n",
      "_________________________________________________________________\n",
      "conv2d_1 (Conv2D)            (None, 14, 14, 64)        18496     \n",
      "_________________________________________________________________\n",
      "leaky_re_lu_1 (LeakyReLU)    (None, 14, 14, 64)        0         \n",
      "_________________________________________________________________\n",
      "conv2d_2 (Conv2D)            (None, 7, 7, 128)         73856     \n",
      "_________________________________________________________________\n",
      "leaky_re_lu_2 (LeakyReLU)    (None, 7, 7, 128)         0         \n",
      "_________________________________________________________________\n",
      "flatten (Flatten)            (None, 6272)              0         \n",
      "_________________________________________________________________\n",
      "dense (Dense)                (None, 1)                 6273      \n",
      "=================================================================\n",
      "Total params: 99,521\n",
      "Trainable params: 99,521\n",
      "Non-trainable params: 0\n",
      "_________________________________________________________________\n"
     ]
    }
   ],
   "source": [
    "discriminator.summary()"
   ]
  },
  {
   "cell_type": "code",
   "execution_count": 183,
   "metadata": {},
   "outputs": [],
   "source": [
    "# from the summary above, we see that we get a 7x7x128 just before flattenning\n",
    "nodes = 7*7*128\n",
    "\n",
    "def getGeneratorModel():\n",
    "    model = K.models.Sequential([\n",
    "        layers.Dense(nodes, input_shape = (100,)),\n",
    "        # shouldn't explode\n",
    "        layers.BatchNormalization(),\n",
    "        layers.Reshape((7, 7, 128)),\n",
    "        layers.LeakyReLU(),\n",
    "        \n",
    "        layers.Conv2DTranspose(128, (3, 3), padding = 'same'),\n",
    "        layers.LeakyReLU(),\n",
    "        \n",
    "        layers.Conv2DTranspose(64, (3, 3), strides = (2, 2), padding = 'same'),\n",
    "        layers.BatchNormalization(),\n",
    "        layers.LeakyReLU(),\n",
    "        \n",
    "        layers.Conv2DTranspose(32, (3, 3), strides = (2, 2), padding = 'same'),\n",
    "        layers.BatchNormalization(),\n",
    "        layers.LeakyReLU(),\n",
    "        \n",
    "        # at this point the image is upsampled twice so we have 7*2*2 shaped image\n",
    "        layers.Conv2DTranspose(1, (3, 3), padding = 'same')\n",
    "    ], name = 'generator sequential model')\n",
    "    \n",
    "    return model"
   ]
  },
  {
   "cell_type": "code",
   "execution_count": 184,
   "metadata": {},
   "outputs": [],
   "source": [
    "generator = getGeneratorModel()"
   ]
  },
  {
   "cell_type": "code",
   "execution_count": 185,
   "metadata": {},
   "outputs": [
    {
     "name": "stdout",
     "output_type": "stream",
     "text": [
      "Model: \"generator sequential model\"\n",
      "_________________________________________________________________\n",
      "Layer (type)                 Output Shape              Param #   \n",
      "=================================================================\n",
      "dense_1 (Dense)              (None, 6272)              633472    \n",
      "_________________________________________________________________\n",
      "batch_normalization (BatchNo (None, 6272)              25088     \n",
      "_________________________________________________________________\n",
      "reshape (Reshape)            (None, 7, 7, 128)         0         \n",
      "_________________________________________________________________\n",
      "leaky_re_lu_3 (LeakyReLU)    (None, 7, 7, 128)         0         \n",
      "_________________________________________________________________\n",
      "conv2d_transpose (Conv2DTran (None, 7, 7, 128)         147584    \n",
      "_________________________________________________________________\n",
      "leaky_re_lu_4 (LeakyReLU)    (None, 7, 7, 128)         0         \n",
      "_________________________________________________________________\n",
      "conv2d_transpose_1 (Conv2DTr (None, 14, 14, 64)        73792     \n",
      "_________________________________________________________________\n",
      "batch_normalization_1 (Batch (None, 14, 14, 64)        256       \n",
      "_________________________________________________________________\n",
      "leaky_re_lu_5 (LeakyReLU)    (None, 14, 14, 64)        0         \n",
      "_________________________________________________________________\n",
      "conv2d_transpose_2 (Conv2DTr (None, 28, 28, 32)        18464     \n",
      "_________________________________________________________________\n",
      "batch_normalization_2 (Batch (None, 28, 28, 32)        128       \n",
      "_________________________________________________________________\n",
      "leaky_re_lu_6 (LeakyReLU)    (None, 28, 28, 32)        0         \n",
      "_________________________________________________________________\n",
      "conv2d_transpose_3 (Conv2DTr (None, 28, 28, 1)         289       \n",
      "=================================================================\n",
      "Total params: 899,073\n",
      "Trainable params: 886,337\n",
      "Non-trainable params: 12,736\n",
      "_________________________________________________________________\n"
     ]
    }
   ],
   "source": [
    "generator.summary()"
   ]
  },
  {
   "cell_type": "code",
   "execution_count": 186,
   "metadata": {},
   "outputs": [
    {
     "name": "stdout",
     "output_type": "stream",
     "text": [
      "(2, 28, 28, 1)\n"
     ]
    },
    {
     "data": {
      "text/plain": [
       "<matplotlib.image.AxesImage at 0x7fd967c0c970>"
      ]
     },
     "execution_count": 186,
     "metadata": {},
     "output_type": "execute_result"
    },
    {
     "data": {
      "image/png": "[encoded data removed]",
      "text/plain": [
       "<Figure size 432x288 with 1 Axes>"
      ]
     },
     "metadata": {
      "needs_background": "light"
     },
     "output_type": "display_data"
    }
   ],
   "source": [
    "# testing the generator with some noise\n",
    "noise = tf.random.normal([2, 100])\n",
    "genImgs = generator(noise, training = False)\n",
    "print(genImg.shape)\n",
    "plt.imshow(genImg[0, :, :, 0], cmap = 'gray')"
   ]
  },
  {
   "cell_type": "markdown",
   "metadata": {},
   "source": [
    "# Optimizers"
   ]
  },
  {
   "cell_type": "code",
   "execution_count": 187,
   "metadata": {},
   "outputs": [],
   "source": [
    "genOpt = K.optimizers.Adam(lr = 1e-4)\n",
    "discOpt = K.optimizers.Adam(lr = 1e-4)"
   ]
  },
  {
   "cell_type": "markdown",
   "metadata": {},
   "source": [
    "# Losses"
   ]
  },
  {
   "cell_type": "code",
   "execution_count": 188,
   "metadata": {},
   "outputs": [],
   "source": [
    "def getGeneratorLoss(fakePreds):\n",
    "    return K.losses.BinaryCrossentropy(tf.ones_like(fakePreds), fakePreds)"
   ]
  },
  {
   "cell_type": "code",
   "execution_count": 189,
   "metadata": {},
   "outputs": [],
   "source": [
    "def getDiscriminatorLoss(realPreds, fakePreds):\n",
    "    rLoss = K.losses.BinaryCrossentropy(tf.ones_like(realPreds), realPreds)\n",
    "    fLoss = K.losses.BinaryCrossentropy(tf.zeros_like(fakePreds), fakePreds)\n",
    "    totalLoss = rLoss + fLoss\n",
    "    return totalLoss"
   ]
  },
  {
   "cell_type": "markdown",
   "metadata": {},
   "source": [
    "# Training"
   ]
  },
  {
   "cell_type": "code",
   "execution_count": 190,
   "metadata": {},
   "outputs": [],
   "source": [
    "EPOCHS = 50"
   ]
  },
  {
   "cell_type": "code",
   "execution_count": 191,
   "metadata": {},
   "outputs": [],
   "source": [
    "def train(dataset, epochs):\n",
    "    for epoch in range(epochs):\n",
    "        print(\"Running epoch : \" + str(epoch + 1))\n",
    "        \n",
    "        for pokemon in dataset:\n",
    "            trainStep(pokemon)"
   ]
  },
  {
   "cell_type": "code",
   "execution_count": 192,
   "metadata": {},
   "outputs": [],
   "source": [
    "# this decorator is used to \n",
    "@tf.function\n",
    "def trainStep(images):\n",
    "    noise = tf.random.normal([BATCH_SIZE, 100])\n",
    "    \n",
    "    with tf.GradientTape() as gen, tf.gradientTape() as disc:\n",
    "        genImages = generator(noise, training = True)\n",
    "        \n",
    "        realOP = discriminator(images, training = True)\n",
    "        fakeOP = discriminator(genImages, training = True)\n",
    "        \n",
    "        genLoss = getGeneratorLoss(fakeOP)\n",
    "        discLoss = getDiscriminatorLoss(realOP, fakeOP)\n",
    "        \n",
    "    genGrads = gen.gradient(genLoss, generator.trainable_variables)\n",
    "    discGrads = disc.gradient(discLoss, discriminator.trainable_variables)\n",
    "    \n",
    "    genOpt.apply_gradients(zip(genGrads, generator.trainable_variables))\n",
    "    discOpt.apply_gradients(zip(discGrads, discriminator.trainable_variables))"
   ]
  },
  {
   "cell_type": "code",
   "execution_count": null,
   "metadata": {},
   "outputs": [],
   "source": []
  }
 ],
 "metadata": {
  "kernelspec": {
   "display_name": "Python 3",
   "language": "python",
   "name": "python3"
  },
  "language_info": {
   "codemirror_mode": {
    "name": "ipython",
    "version": 3
   },
   "file_extension": ".py",
   "mimetype": "text/x-python",
   "name": "python",
   "nbconvert_exporter": "python",
   "pygments_lexer": "ipython3",
   "version": "3.8.2"
  }
 },
 "nbformat": 4,
 "nbformat_minor": 4
}
